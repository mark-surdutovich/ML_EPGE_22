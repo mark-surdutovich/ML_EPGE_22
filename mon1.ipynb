{
 "cells": [
  {
   "cell_type": "code",
   "execution_count": null,
   "metadata": {},
   "outputs": [],
   "source": [
    "Objetivos da hoje:\n",
    "    \n",
    "    - OOP (object oriented programming) e paradigmas de programação\n",
    "    - visualização de um prêmio Nobel de física \n",
    "    - falar bem 2 vezes do Excel!?!\n",
    "    \n",
    "    "
   ]
  },
  {
   "cell_type": "code",
   "execution_count": 5,
   "metadata": {},
   "outputs": [],
   "source": [
    "%matplotlib inline\n",
    "\n",
    "import matplotlib.pyplot as plt\n",
    "import numpy as np\n",
    "import pandas as pd\n",
    "\n",
    "plt.ioff()"
   ]
  },
  {
   "cell_type": "code",
   "execution_count": 8,
   "metadata": {},
   "outputs": [
    {
     "data": {
      "text/plain": [
       "<Figure size 288x576 with 0 Axes>"
      ]
     },
     "metadata": {},
     "output_type": "display_data"
    }
   ],
   "source": [
    "fig = plt.figure(figsize=plt.figaspect(2.0))\n",
    "plt.show()"
   ]
  },
  {
   "cell_type": "code",
   "execution_count": 11,
   "metadata": {},
   "outputs": [
    {
     "data": {
      "image/png": "[encoded data removed]",
      "text/plain": [
       "<Figure size 288x576 with 1 Axes>"
      ]
     },
     "metadata": {},
     "output_type": "display_data"
    }
   ],
   "source": [
    "fig = plt.figure(figsize=plt.figaspect(2.0),facecolor='red')\n",
    "ax = fig.add_subplot(111)\n",
    "ax.set_title(\"tit\")\n",
    "ax.set_ylim([0,2])\n",
    "plt.show()"
   ]
  },
  {
   "cell_type": "code",
   "execution_count": 45,
   "metadata": {},
   "outputs": [
    {
     "data": {
      "text/html": [
       "<div>\n",
       "<style scoped>\n",
       "    .dataframe tbody tr th:only-of-type {\n",
       "        vertical-align: middle;\n",
       "    }\n",
       "\n",
       "    .dataframe tbody tr th {\n",
       "        vertical-align: top;\n",
       "    }\n",
       "\n",
       "    .dataframe thead th {\n",
       "        text-align: right;\n",
       "    }\n",
       "</style>\n",
       "<table border=\"1\" class=\"dataframe\">\n",
       "  <thead>\n",
       "    <tr style=\"text-align: right;\">\n",
       "      <th></th>\n",
       "      <th>time</th>\n",
       "      <th>origin</th>\n",
       "      <th>agent</th>\n",
       "      <th>weight</th>\n",
       "    </tr>\n",
       "  </thead>\n",
       "  <tbody>\n",
       "    <tr>\n",
       "      <th>0</th>\n",
       "      <td>18931129</td>\n",
       "      <td>NO</td>\n",
       "      <td>hot_iron</td>\n",
       "      <td>2.30143</td>\n",
       "    </tr>\n",
       "    <tr>\n",
       "      <th>1</th>\n",
       "      <td>18931205</td>\n",
       "      <td>NO</td>\n",
       "      <td>hot_iron</td>\n",
       "      <td>2.29816</td>\n",
       "    </tr>\n",
       "    <tr>\n",
       "      <th>2</th>\n",
       "      <td>18931206</td>\n",
       "      <td>NO</td>\n",
       "      <td>hot_iron</td>\n",
       "      <td>2.30182</td>\n",
       "    </tr>\n",
       "    <tr>\n",
       "      <th>3</th>\n",
       "      <td>18931208</td>\n",
       "      <td>NO</td>\n",
       "      <td>hot_iron</td>\n",
       "      <td>2.29890</td>\n",
       "    </tr>\n",
       "    <tr>\n",
       "      <th>4</th>\n",
       "      <td>18931212</td>\n",
       "      <td>air</td>\n",
       "      <td>hot_iron</td>\n",
       "      <td>2.31017</td>\n",
       "    </tr>\n",
       "    <tr>\n",
       "      <th>5</th>\n",
       "      <td>18931214</td>\n",
       "      <td>air</td>\n",
       "      <td>hot_iron</td>\n",
       "      <td>2.30986</td>\n",
       "    </tr>\n",
       "    <tr>\n",
       "      <th>6</th>\n",
       "      <td>18931219</td>\n",
       "      <td>air</td>\n",
       "      <td>hot_iron</td>\n",
       "      <td>2.31010</td>\n",
       "    </tr>\n",
       "    <tr>\n",
       "      <th>7</th>\n",
       "      <td>18931222</td>\n",
       "      <td>air</td>\n",
       "      <td>hot_iron</td>\n",
       "      <td>2.31001</td>\n",
       "    </tr>\n",
       "    <tr>\n",
       "      <th>8</th>\n",
       "      <td>18931226</td>\n",
       "      <td>N2O</td>\n",
       "      <td>hot_iron</td>\n",
       "      <td>2.29889</td>\n",
       "    </tr>\n",
       "    <tr>\n",
       "      <th>9</th>\n",
       "      <td>18931228</td>\n",
       "      <td>N2O</td>\n",
       "      <td>hot_iron</td>\n",
       "      <td>2.29940</td>\n",
       "    </tr>\n",
       "    <tr>\n",
       "      <th>10</th>\n",
       "      <td>18940109</td>\n",
       "      <td>NH4NO2</td>\n",
       "      <td>hot_iron</td>\n",
       "      <td>2.29849</td>\n",
       "    </tr>\n",
       "    <tr>\n",
       "      <th>11</th>\n",
       "      <td>18940113</td>\n",
       "      <td>NH4NO3</td>\n",
       "      <td>hot_iron</td>\n",
       "      <td>2.29889</td>\n",
       "    </tr>\n",
       "    <tr>\n",
       "      <th>12</th>\n",
       "      <td>18940127</td>\n",
       "      <td>air</td>\n",
       "      <td>ferrous_hydrate</td>\n",
       "      <td>2.31024</td>\n",
       "    </tr>\n",
       "    <tr>\n",
       "      <th>13</th>\n",
       "      <td>18940130</td>\n",
       "      <td>air</td>\n",
       "      <td>ferrous_hydrate</td>\n",
       "      <td>2.31030</td>\n",
       "    </tr>\n",
       "    <tr>\n",
       "      <th>14</th>\n",
       "      <td>18940201</td>\n",
       "      <td>air</td>\n",
       "      <td>ferrous_hydrate</td>\n",
       "      <td>2.31028</td>\n",
       "    </tr>\n",
       "  </tbody>\n",
       "</table>\n",
       "</div>"
      ],
      "text/plain": [
       "        time  origin            agent   weight\n",
       "0   18931129      NO         hot_iron  2.30143\n",
       "1   18931205      NO         hot_iron  2.29816\n",
       "2   18931206      NO         hot_iron  2.30182\n",
       "3   18931208      NO         hot_iron  2.29890\n",
       "4   18931212     air         hot_iron  2.31017\n",
       "5   18931214     air         hot_iron  2.30986\n",
       "6   18931219     air         hot_iron  2.31010\n",
       "7   18931222     air         hot_iron  2.31001\n",
       "8   18931226     N2O         hot_iron  2.29889\n",
       "9   18931228     N2O         hot_iron  2.29940\n",
       "10  18940109  NH4NO2         hot_iron  2.29849\n",
       "11  18940113  NH4NO3         hot_iron  2.29889\n",
       "12  18940127     air  ferrous_hydrate  2.31024\n",
       "13  18940130     air  ferrous_hydrate  2.31030\n",
       "14  18940201     air  ferrous_hydrate  2.31028"
      ]
     },
     "execution_count": 45,
     "metadata": {},
     "output_type": "execute_result"
    }
   ],
   "source": [
    "nobel = pd.read_csv(\"C://Users//surdu/Documents//epge//nobel_prize.csv\")\n",
    "nobel"
   ]
  },
  {
   "cell_type": "code",
   "execution_count": 14,
   "metadata": {},
   "outputs": [
    {
     "data": {
      "image/png": "[encoded data removed]",
      "text/plain": [
       "<Figure size 432x288 with 1 Axes>"
      ]
     },
     "metadata": {
      "needs_background": "light"
     },
     "output_type": "display_data"
    }
   ],
   "source": [
    "fig, ax = plt.subplots()\n",
    "\n",
    "ax.plot('time','weight',data=nobel)\n",
    "plt.show()"
   ]
  },
  {
   "cell_type": "code",
   "execution_count": 15,
   "metadata": {},
   "outputs": [
    {
     "data": {
      "image/png": "[encoded data removed]",
      "text/plain": [
       "<Figure size 432x288 with 1 Axes>"
      ]
     },
     "metadata": {
      "needs_background": "light"
     },
     "output_type": "display_data"
    }
   ],
   "source": [
    "fig, ax = plt.subplots()\n",
    "\n",
    "ax.scatter('time','weight',data=nobel)\n",
    "plt.show()"
   ]
  },
  {
   "cell_type": "code",
   "execution_count": 16,
   "metadata": {},
   "outputs": [
    {
     "data": {
      "image/png": "[encoded data removed]",
      "text/plain": [
       "<Figure size 432x288 with 1 Axes>"
      ]
     },
     "metadata": {
      "needs_background": "light"
     },
     "output_type": "display_data"
    }
   ],
   "source": [
    "fig, ax = plt.subplots()\n",
    "\n",
    "ax.boxplot('weight',data=nobel)\n",
    "plt.show()"
   ]
  },
  {
   "cell_type": "code",
   "execution_count": 17,
   "metadata": {},
   "outputs": [
    {
     "data": {
      "image/png": "[encoded data removed]",
      "text/plain": [
       "<Figure size 432x288 with 1 Axes>"
      ]
     },
     "metadata": {
      "needs_background": "light"
     },
     "output_type": "display_data"
    }
   ],
   "source": [
    "fig, ax = plt.subplots()\n",
    "\n",
    "ax.violinplot('weight',data=nobel)\n",
    "plt.show()"
   ]
  },
  {
   "cell_type": "code",
   "execution_count": 25,
   "metadata": {},
   "outputs": [
    {
     "data": {
      "image/png": "[encoded data removed]",
      "text/plain": [
       "<Figure size 432x288 with 1 Axes>"
      ]
     },
     "metadata": {
      "needs_background": "light"
     },
     "output_type": "display_data"
    }
   ],
   "source": [
    "fig, ax = plt.subplots()\n",
    "\n",
    "ax.hist('weight',bins=20,data=nobel)\n",
    "plt.show()"
   ]
  },
  {
   "cell_type": "code",
   "execution_count": 20,
   "metadata": {},
   "outputs": [
    {
     "data": {
      "image/png": "[encoded data removed]",
      "text/plain": [
       "<Figure size 432x288 with 1 Axes>"
      ]
     },
     "metadata": {
      "needs_background": "light"
     },
     "output_type": "display_data"
    }
   ],
   "source": [
    "fig, ax = plt.subplots()\n",
    "\n",
    "ax.bar('origin','weight', data=nobel)\n",
    "plt.show()"
   ]
  },
  {
   "cell_type": "code",
   "execution_count": 23,
   "metadata": {},
   "outputs": [
    {
     "data": {
      "image/png": "[encoded data removed]",
      "text/plain": [
       "<Figure size 432x288 with 1 Axes>"
      ]
     },
     "metadata": {
      "needs_background": "light"
     },
     "output_type": "display_data"
    }
   ],
   "source": [
    "fig, ax = plt.subplots()\n",
    "\n",
    "ax.set_ylim([2.25,2.35])\n",
    "ax.bar('origin','weight', data=nobel)\n",
    "plt.show()"
   ]
  },
  {
   "cell_type": "code",
   "execution_count": 24,
   "metadata": {},
   "outputs": [
    {
     "data": {
      "image/png": "[encoded data removed]",
      "text/plain": [
       "<Figure size 432x288 with 1 Axes>"
      ]
     },
     "metadata": {
      "needs_background": "light"
     },
     "output_type": "display_data"
    }
   ],
   "source": [
    "nobel.boxplot(by=['origin'],column=['weight'])\n",
    "\n",
    "plt.show()"
   ]
  },
  {
   "cell_type": "code",
   "execution_count": 56,
   "metadata": {},
   "outputs": [
    {
     "data": {
      "image/png": "[encoded data removed]",
      "text/plain": [
       "<Figure size 432x288 with 1 Axes>"
      ]
     },
     "metadata": {
      "needs_background": "light"
     },
     "output_type": "display_data"
    }
   ],
   "source": [
    "\n",
    "n2=nobel.groupby(['origin'])['weight'].apply(list).to_dict()\n",
    "n2\n",
    "\n",
    "fig, ax = plt.subplots()\n",
    "\n",
    "#for kk in n2.keys():\n",
    "#    ax.boxplot(n2[kk])\n",
    "    \n",
    "ax.boxplot(list(n2.values()),labels=list(n2.keys()) )    \n",
    "    \n",
    "plt.show()"
   ]
  }
 ],
 "metadata": {
  "kernelspec": {
   "display_name": "Python 3",
   "language": "python",
   "name": "python3"
  },
  "language_info": {
   "codemirror_mode": {
    "name": "ipython",
    "version": 3
   },
   "file_extension": ".py",
   "mimetype": "text/x-python",
   "name": "python",
   "nbconvert_exporter": "python",
   "pygments_lexer": "ipython3",
   "version": "3.7.6"
  }
 },
 "nbformat": 4,
 "nbformat_minor": 4
}
